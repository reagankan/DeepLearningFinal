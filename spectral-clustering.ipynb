{
 "cells": [
  {
   "cell_type": "markdown",
   "metadata": {},
   "source": [
    "# Spectral Clustering\n",
    "---\n",
    "Spectral clustering for link prediction:\n",
    "1. Compute eigendecomposition of graph Laplacian\n",
    "2. Take top K eigenvectors --> node embedding vectors (Z)\n",
    "3. Edge scores = sigmoid(Z * Z^T)\n",
    "3. Test scores these scores against actual edge values (ROC AUC, AP)\n",
    "\n",
    "Scikit-learn documentation: http://scikit-learn.org/stable/modules/generated/sklearn.manifold.spectral_embedding.html"
   ]
  },
  {
   "cell_type": "markdown",
   "metadata": {},
   "source": [
    "## 1. Read in Graph Data"
   ]
  },
  {
   "cell_type": "code",
   "execution_count": 1,
   "metadata": {},
   "outputs": [
    {
     "name": "stdout",
     "output_type": "stream",
     "text": [
      "hi.\n"
     ]
    }
   ],
   "source": [
    "import networkx as nx\n",
    "import matplotlib.pyplot as plt\n",
    "import pandas as pd\n",
    "import scipy.sparse as sp\n",
    "import numpy as np\n",
    "from sklearn.metrics import roc_auc_score\n",
    "from sklearn.metrics import average_precision_score\n",
    "import pickle\n",
    "\n",
    "print(\"hi.\")"
   ]
  },
  {
   "cell_type": "code",
   "execution_count": 2,
   "metadata": {},
   "outputs": [
    {
     "name": "stdout",
     "output_type": "stream",
     "text": [
      "hi.\n"
     ]
    }
   ],
   "source": [
    "EGO_USER = 0 # which ego network to look at\n",
    "\n",
    "def read_data_file_as_csr_matrix(filename):\n",
    "    data = pd.read_csv(filename, sep=' ', header=None, dtype=np.uint32, error_bad_lines = False)\n",
    "    rows = data[0]\n",
    "    cols = data[1]\n",
    "    ones = np.ones(len(rows), np.uint32)\n",
    "    matrix = sp.csr_matrix((ones, (rows, cols)))\n",
    "    print(matrix)\n",
    "    return matrix\n",
    "\n",
    "# Load pickled (adj, feat) tuple\n",
    "network_dir = './youtube-data/080327_3.txt_train.txt'\n",
    "# adj2 = read_data_file_as_csr_matrix(network_dir)\n",
    "\n",
    "g = nx.Graph()\n",
    "\n",
    "print(\"hi.\")\n",
    "\n",
    "with open(network_dir, 'r') as f:\n",
    "    for node_connect in f.readlines():\n",
    "        node_connect = node_connect.replace('\\n', '')\n",
    "        node_connect = node_connect.split(\" \")\n",
    "        node_connect[0] = int(node_connect[0])\n",
    "        node_connect[1] = int(node_connect[1])\n",
    "        g.add_edge(node_connect[0], node_connect[1])"
   ]
  },
  {
   "cell_type": "code",
   "execution_count": 3,
   "metadata": {},
   "outputs": [],
   "source": [
    "# draw network\n",
    "# nx.draw_networkx(g, with_labels=False, node_size=1, node_color='r')\n",
    "plt.show()"
   ]
  },
  {
   "cell_type": "markdown",
   "metadata": {},
   "source": [
    "## 2. Preprocessing/Train-Test Split"
   ]
  },
  {
   "cell_type": "code",
   "execution_count": 4,
   "metadata": {},
   "outputs": [
    {
     "name": "stdout",
     "output_type": "stream",
     "text": [
      "WARNING: not enough removable edges to perform full train-test split!\n",
      "Num. (test, val) edges requested: ( 1258 ,  419 )\n",
      "Num. (test, val) edges returned: ( 537 ,  0 )\n"
     ]
    }
   ],
   "source": [
    "from gae.preprocessing import mask_test_edges\n",
    "np.random.seed(0) # make sure train-test split is consistent between notebooks\n",
    "adj_sparse = nx.to_scipy_sparse_matrix(g)\n",
    "\n",
    "# Perform train-test split\n",
    "adj_train, train_edges, train_edges_false, val_edges, val_edges_false, \\\n",
    "    test_edges, test_edges_false = mask_test_edges(adj_sparse, test_frac=.3, val_frac=.1)\n",
    "g_train = nx.from_scipy_sparse_matrix(adj_train) # new graph object with only non-hidden edges"
   ]
  },
  {
   "cell_type": "code",
   "execution_count": 5,
   "metadata": {},
   "outputs": [
    {
     "name": "stdout",
     "output_type": "stream",
     "text": [
      "Total nodes: 3949\n",
      "Total edges: 4194\n",
      "Training edges (positive): 3657\n",
      "Training edges (negative): 3657\n",
      "Validation edges (positive): 0\n",
      "Validation edges (negative): 419\n",
      "Test edges (positive): 537\n",
      "Test edges (negative): 1258\n"
     ]
    }
   ],
   "source": [
    "# Inspect train/test split\n",
    "print(\"Total nodes:\", adj_sparse.shape[0])\n",
    "print(\"Total edges:\", int(adj_sparse.nnz/2)) # adj is symmetric, so nnz (num non-zero) = 2*num_edges\n",
    "print(\"Training edges (positive):\", len(train_edges))\n",
    "print(\"Training edges (negative):\", len(train_edges_false))\n",
    "print(\"Validation edges (positive):\", len(val_edges))\n",
    "print(\"Validation edges (negative):\", len(val_edges_false))\n",
    "print(\"Test edges (positive):\", len(test_edges))\n",
    "print(\"Test edges (negative):\", len(test_edges_false))"
   ]
  },
  {
   "cell_type": "code",
   "execution_count": 6,
   "metadata": {},
   "outputs": [],
   "source": [
    "def get_roc_score(edges_pos, edges_neg, embeddings):\n",
    "    score_matrix = np.dot(embeddings, embeddings.T)\n",
    "    \n",
    "    def sigmoid(x):\n",
    "        return 1 / (1 + np.exp(-x))\n",
    "    \n",
    "    # Store positive edge predictions, actual values\n",
    "    preds_pos = []\n",
    "    pos = []\n",
    "    for edge in edges_pos:\n",
    "        preds_pos.append(sigmoid(score_matrix[edge[0], edge[1]])) # predicted score\n",
    "        pos.append(adj_sparse[edge[0], edge[1]]) # actual value (1 for positive)\n",
    "        \n",
    "    # Store negative edge predictions, actual values\n",
    "    preds_neg = []\n",
    "    neg = []\n",
    "    for edge in edges_neg:\n",
    "        preds_neg.append(sigmoid(score_matrix[edge[0], edge[1]])) # predicted score\n",
    "        neg.append(adj_sparse[edge[0], edge[1]]) # actual value (0 for negative)\n",
    "        \n",
    "    # Calculate scores\n",
    "    preds_all = np.hstack([preds_pos, preds_neg])\n",
    "    labels_all = np.hstack([np.ones(len(preds_pos)), np.zeros(len(preds_neg))])\n",
    "    roc_score = roc_auc_score(labels_all, preds_all)\n",
    "    ap_score = average_precision_score(labels_all, preds_all)\n",
    "    return roc_score, ap_score"
   ]
  },
  {
   "cell_type": "markdown",
   "metadata": {},
   "source": [
    "## 3. Spectral Clustering"
   ]
  },
  {
   "cell_type": "code",
   "execution_count": 7,
   "metadata": {},
   "outputs": [
    {
     "name": "stderr",
     "output_type": "stream",
     "text": [
      "D:\\Anaconda\\lib\\site-packages\\sklearn\\manifold\\spectral_embedding_.py:234: UserWarning: Graph is not fully connected, spectral embedding may not work as expected.\n",
      "  warnings.warn(\"Graph is not fully connected, spectral embedding\"\n"
     ]
    }
   ],
   "source": [
    "from sklearn.manifold import spectral_embedding\n",
    "import time\n",
    "# Get spectral embeddings (16-dim)\n",
    "the_time = time.time()\n",
    "emb = spectral_embedding(adj_train, n_components=16, random_state=0)"
   ]
  },
  {
   "cell_type": "code",
   "execution_count": 8,
   "metadata": {},
   "outputs": [
    {
     "name": "stdout",
     "output_type": "stream",
     "text": [
      "Time taken: -8.914435386657715\n",
      "Spectral Clustering Test ROC score:  0.910797340225536\n",
      "Spectral Clustering Test AP score:  0.8463578284870698\n"
     ]
    }
   ],
   "source": [
    "# Calculate ROC AUC and Average Precision\n",
    "sc_roc, sc_ap = get_roc_score(test_edges, test_edges_false, emb)\n",
    "taken_time = the_time - time.time()\n",
    "print(\"Time taken: {}\".format(taken_time))\n",
    "print('Spectral Clustering Test ROC score: ', str(sc_roc))\n",
    "print('Spectral Clustering Test AP score: ', str(sc_ap))"
   ]
  },
  {
   "cell_type": "code",
   "execution_count": null,
   "metadata": {},
   "outputs": [],
   "source": []
  }
 ],
 "metadata": {
  "kernelspec": {
   "display_name": "Python 3",
   "language": "python",
   "name": "python3"
  },
  "language_info": {
   "codemirror_mode": {
    "name": "ipython",
    "version": 3
   },
   "file_extension": ".py",
   "mimetype": "text/x-python",
   "name": "python",
   "nbconvert_exporter": "python",
   "pygments_lexer": "ipython3",
   "version": "3.6.5"
  }
 },
 "nbformat": 4,
 "nbformat_minor": 2
}
