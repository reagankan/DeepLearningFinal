{
 "cells": [
  {
   "cell_type": "markdown",
   "metadata": {},
   "source": [
    "# Facebook Ego Graph Experiments\n",
    "---\n",
    "Run link prediction tests on all included Facebook ego networks"
   ]
  },
  {
   "cell_type": "code",
   "execution_count": 1,
   "metadata": {},
   "outputs": [
    {
     "name": "stderr",
     "output_type": "stream",
     "text": [
      "unable to import 'smart_open.gcs', disabling that module\n",
      "D:\\Anaconda\\lib\\site-packages\\h5py\\__init__.py:36: FutureWarning: Conversion of the second argument of issubdtype from `float` to `np.floating` is deprecated. In future, it will be treated as `np.float64 == np.dtype(float).type`.\n",
      "  from ._conv import register_converters as _register_converters\n"
     ]
    }
   ],
   "source": [
    "import networkx as nx\n",
    "import matplotlib.pyplot as plt\n",
    "import pandas as pd\n",
    "import link_prediction_scores as lp\n",
    "import pickle\n",
    "\n",
    "RANDOM_SEED = 0"
   ]
  },
  {
   "cell_type": "markdown",
   "metadata": {},
   "source": [
    "### Load in FB Graphs"
   ]
  },
  {
   "cell_type": "code",
   "execution_count": 2,
   "metadata": {},
   "outputs": [],
   "source": [
    "FB_EGO_USERS = [0, 107, 1684, 1912, 3437, 348, 3980, 414, 686, 698]\n",
    "\n",
    "fb_graphs = {} # Dictionary to store all FB ego network graphs\n",
    "\n",
    "### ----- Read in all FB ego graphs ----- ###\n",
    "# Store graphs in dictionary as (adj, features) tuples\n",
    "for user in FB_EGO_USERS:\n",
    "    network_dir = './fb-processed/{0}-adj-feat.pkl'.format(user)\n",
    "    with open(network_dir, 'rb') as f:\n",
    "        adj, features = pickle.load(f, encoding='latin1')\n",
    "    \n",
    "    # Store in dict\n",
    "    fb_graphs[user] = (adj, features)\n",
    "    \n",
    "### ----- Read in combined FB graph ----- ###\n",
    "combined_dir = './fb-processed/combined-adj-sparsefeat.pkl'\n",
    "with open(combined_dir, 'rb') as f:\n",
    "    adj, features = pickle.load(f, encoding='bytes')\n",
    "    fb_graphs['combined'] = (adj, features)"
   ]
  },
  {
   "cell_type": "markdown",
   "metadata": {},
   "source": [
    "### Run Link Prediction Tests"
   ]
  },
  {
   "cell_type": "code",
   "execution_count": 4,
   "metadata": {},
   "outputs": [
    {
     "name": "stdout",
     "output_type": "stream",
     "text": [
      "Current experiment:  fb-0-0.25-hidden\n",
      "Generating train-test split...\n",
      "Current experiment:  fb-107-0.25-hidden\n",
      "Generating train-test split...\n",
      "Current experiment:  fb-1684-0.25-hidden\n",
      "Generating train-test split...\n",
      "Current experiment:  fb-1912-0.25-hidden\n",
      "Generating train-test split...\n",
      "Current experiment:  fb-3437-0.25-hidden\n",
      "Generating train-test split...\n",
      "Current experiment:  fb-348-0.25-hidden\n",
      "Generating train-test split...\n",
      "Current experiment:  fb-3980-0.25-hidden\n",
      "Generating train-test split...\n",
      "Current experiment:  fb-414-0.25-hidden\n",
      "Generating train-test split...\n",
      "Current experiment:  fb-686-0.25-hidden\n",
      "Generating train-test split...\n",
      "Current experiment:  fb-698-0.25-hidden\n",
      "Generating train-test split...\n",
      "Current experiment:  fb-combined-0.25-hidden\n",
      "Generating train-test split...\n"
     ]
    },
    {
     "ename": "AttributeError",
     "evalue": "shape not found",
     "output_type": "error",
     "traceback": [
      "\u001b[1;31m---------------------------------------------------------------------------\u001b[0m",
      "\u001b[1;31mTypeError\u001b[0m                                 Traceback (most recent call last)",
      "\u001b[1;32m~\\cs7643\\link-prediction-master\\link_prediction_scores.py\u001b[0m in \u001b[0;36mcalculate_all_scores\u001b[1;34m(adj_sparse, features_matrix, directed, test_frac, val_frac, random_state, verbose, train_test_split_file, tf_dtype)\u001b[0m\n\u001b[0;32m    615\u001b[0m     \u001b[1;32mtry\u001b[0m\u001b[1;33m:\u001b[0m \u001b[1;31m# If found existing train-test split, use that file\u001b[0m\u001b[1;33m\u001b[0m\u001b[0m\n\u001b[1;32m--> 616\u001b[1;33m         \u001b[1;32mwith\u001b[0m \u001b[0mopen\u001b[0m\u001b[1;33m(\u001b[0m\u001b[0mtrain_test_split_file\u001b[0m\u001b[1;33m,\u001b[0m \u001b[1;34m'rb'\u001b[0m\u001b[1;33m)\u001b[0m \u001b[1;32mas\u001b[0m \u001b[0mf\u001b[0m\u001b[1;33m:\u001b[0m\u001b[1;33m\u001b[0m\u001b[0m\n\u001b[0m\u001b[0;32m    617\u001b[0m             \u001b[0mtrain_test_split\u001b[0m \u001b[1;33m=\u001b[0m \u001b[0mpickle\u001b[0m\u001b[1;33m.\u001b[0m\u001b[0mload\u001b[0m\u001b[1;33m(\u001b[0m\u001b[0mf\u001b[0m\u001b[1;33m,\u001b[0m \u001b[0mencoding\u001b[0m\u001b[1;33m=\u001b[0m\u001b[1;34m'latin1'\u001b[0m\u001b[1;33m)\u001b[0m\u001b[1;33m\u001b[0m\u001b[0m\n",
      "\u001b[1;31mTypeError\u001b[0m: expected str, bytes or os.PathLike object, not NoneType",
      "\nDuring handling of the above exception, another exception occurred:\n",
      "\u001b[1;31mAttributeError\u001b[0m                            Traceback (most recent call last)",
      "\u001b[1;32m<ipython-input-4-ef3e89b9e848>\u001b[0m in \u001b[0;36m<module>\u001b[1;34m()\u001b[0m\n\u001b[0;32m     18\u001b[0m \u001b[1;33m\u001b[0m\u001b[0m\n\u001b[0;32m     19\u001b[0m         \u001b[1;31m# Run all link prediction methods on current graph, store results\u001b[0m\u001b[1;33m\u001b[0m\u001b[1;33m\u001b[0m\u001b[0m\n\u001b[1;32m---> 20\u001b[1;33m         \u001b[0mfb_results\u001b[0m\u001b[1;33m[\u001b[0m\u001b[0mexperiment_name\u001b[0m\u001b[1;33m]\u001b[0m \u001b[1;33m=\u001b[0m \u001b[0mlp\u001b[0m\u001b[1;33m.\u001b[0m\u001b[0mcalculate_all_scores\u001b[0m\u001b[1;33m(\u001b[0m\u001b[0madj\u001b[0m\u001b[1;33m,\u001b[0m \u001b[0mfeat\u001b[0m\u001b[1;33m,\u001b[0m                                                      \u001b[0mtest_frac\u001b[0m\u001b[1;33m=\u001b[0m\u001b[0mtest_frac\u001b[0m\u001b[1;33m,\u001b[0m \u001b[0mval_frac\u001b[0m\u001b[1;33m=\u001b[0m\u001b[0mval_frac\u001b[0m\u001b[1;33m,\u001b[0m                                                      \u001b[0mrandom_state\u001b[0m\u001b[1;33m=\u001b[0m\u001b[0mRANDOM_SEED\u001b[0m\u001b[1;33m,\u001b[0m \u001b[0mverbose\u001b[0m\u001b[1;33m=\u001b[0m\u001b[1;36m0\u001b[0m\u001b[1;33m)\u001b[0m\u001b[1;33m\u001b[0m\u001b[0m\n\u001b[0m\u001b[0;32m     21\u001b[0m \u001b[1;33m\u001b[0m\u001b[0m\n\u001b[0;32m     22\u001b[0m \u001b[1;31m# Save experiment results\u001b[0m\u001b[1;33m\u001b[0m\u001b[1;33m\u001b[0m\u001b[0m\n",
      "\u001b[1;32m~\\cs7643\\link-prediction-master\\link_prediction_scores.py\u001b[0m in \u001b[0;36mcalculate_all_scores\u001b[1;34m(adj_sparse, features_matrix, directed, test_frac, val_frac, random_state, verbose, train_test_split_file, tf_dtype)\u001b[0m\n\u001b[0;32m    620\u001b[0m         \u001b[0mprint\u001b[0m\u001b[1;33m(\u001b[0m\u001b[1;34m'Generating train-test split...'\u001b[0m\u001b[1;33m)\u001b[0m\u001b[1;33m\u001b[0m\u001b[0m\n\u001b[0;32m    621\u001b[0m         \u001b[1;32mif\u001b[0m \u001b[0mdirected\u001b[0m \u001b[1;33m==\u001b[0m \u001b[1;32mFalse\u001b[0m\u001b[1;33m:\u001b[0m\u001b[1;33m\u001b[0m\u001b[0m\n\u001b[1;32m--> 622\u001b[1;33m             \u001b[0mtrain_test_split\u001b[0m \u001b[1;33m=\u001b[0m \u001b[0mmask_test_edges\u001b[0m\u001b[1;33m(\u001b[0m\u001b[0madj_sparse\u001b[0m\u001b[1;33m,\u001b[0m \u001b[0mtest_frac\u001b[0m\u001b[1;33m=\u001b[0m\u001b[0mtest_frac\u001b[0m\u001b[1;33m,\u001b[0m \u001b[0mval_frac\u001b[0m\u001b[1;33m=\u001b[0m\u001b[0mval_frac\u001b[0m\u001b[1;33m)\u001b[0m\u001b[1;33m\u001b[0m\u001b[0m\n\u001b[0m\u001b[0;32m    623\u001b[0m         \u001b[1;32melse\u001b[0m\u001b[1;33m:\u001b[0m\u001b[1;33m\u001b[0m\u001b[0m\n\u001b[0;32m    624\u001b[0m             \u001b[0mtrain_test_split\u001b[0m \u001b[1;33m=\u001b[0m \u001b[0mmask_test_edges_directed\u001b[0m\u001b[1;33m(\u001b[0m\u001b[0madj_sparse\u001b[0m\u001b[1;33m,\u001b[0m \u001b[0mtest_frac\u001b[0m\u001b[1;33m=\u001b[0m\u001b[0mtest_frac\u001b[0m\u001b[1;33m,\u001b[0m \u001b[0mval_frac\u001b[0m\u001b[1;33m=\u001b[0m\u001b[0mval_frac\u001b[0m\u001b[1;33m)\u001b[0m\u001b[1;33m\u001b[0m\u001b[0m\n",
      "\u001b[1;32m~\\cs7643\\link-prediction-master\\gae\\preprocessing.py\u001b[0m in \u001b[0;36mmask_test_edges\u001b[1;34m(adj, test_frac, val_frac, prevent_disconnect, verbose)\u001b[0m\n\u001b[0;32m     41\u001b[0m \u001b[1;33m\u001b[0m\u001b[0m\n\u001b[0;32m     42\u001b[0m     \u001b[1;31m# Remove diagonal elements\u001b[0m\u001b[1;33m\u001b[0m\u001b[1;33m\u001b[0m\u001b[0m\n\u001b[1;32m---> 43\u001b[1;33m     \u001b[0madj\u001b[0m \u001b[1;33m=\u001b[0m \u001b[0madj\u001b[0m \u001b[1;33m-\u001b[0m \u001b[0msp\u001b[0m\u001b[1;33m.\u001b[0m\u001b[0mdia_matrix\u001b[0m\u001b[1;33m(\u001b[0m\u001b[1;33m(\u001b[0m\u001b[0madj\u001b[0m\u001b[1;33m.\u001b[0m\u001b[0mdiagonal\u001b[0m\u001b[1;33m(\u001b[0m\u001b[1;33m)\u001b[0m\u001b[1;33m[\u001b[0m\u001b[0mnp\u001b[0m\u001b[1;33m.\u001b[0m\u001b[0mnewaxis\u001b[0m\u001b[1;33m,\u001b[0m \u001b[1;33m:\u001b[0m\u001b[1;33m]\u001b[0m\u001b[1;33m,\u001b[0m \u001b[1;33m[\u001b[0m\u001b[1;36m0\u001b[0m\u001b[1;33m]\u001b[0m\u001b[1;33m)\u001b[0m\u001b[1;33m,\u001b[0m \u001b[0mshape\u001b[0m\u001b[1;33m=\u001b[0m\u001b[0madj\u001b[0m\u001b[1;33m.\u001b[0m\u001b[0mshape\u001b[0m\u001b[1;33m)\u001b[0m\u001b[1;33m\u001b[0m\u001b[0m\n\u001b[0m\u001b[0;32m     44\u001b[0m     \u001b[0madj\u001b[0m\u001b[1;33m.\u001b[0m\u001b[0meliminate_zeros\u001b[0m\u001b[1;33m(\u001b[0m\u001b[1;33m)\u001b[0m\u001b[1;33m\u001b[0m\u001b[0m\n\u001b[0;32m     45\u001b[0m     \u001b[1;31m# Check that diag is zero:\u001b[0m\u001b[1;33m\u001b[0m\u001b[1;33m\u001b[0m\u001b[0m\n",
      "\u001b[1;32mD:\\Anaconda\\lib\\site-packages\\scipy\\sparse\\compressed.py\u001b[0m in \u001b[0;36mdiagonal\u001b[1;34m(self, k)\u001b[0m\n\u001b[0;32m    515\u001b[0m \u001b[1;33m\u001b[0m\u001b[0m\n\u001b[0;32m    516\u001b[0m     \u001b[1;32mdef\u001b[0m \u001b[0mdiagonal\u001b[0m\u001b[1;33m(\u001b[0m\u001b[0mself\u001b[0m\u001b[1;33m,\u001b[0m \u001b[0mk\u001b[0m\u001b[1;33m=\u001b[0m\u001b[1;36m0\u001b[0m\u001b[1;33m)\u001b[0m\u001b[1;33m:\u001b[0m\u001b[1;33m\u001b[0m\u001b[0m\n\u001b[1;32m--> 517\u001b[1;33m         \u001b[0mrows\u001b[0m\u001b[1;33m,\u001b[0m \u001b[0mcols\u001b[0m \u001b[1;33m=\u001b[0m \u001b[0mself\u001b[0m\u001b[1;33m.\u001b[0m\u001b[0mshape\u001b[0m\u001b[1;33m\u001b[0m\u001b[0m\n\u001b[0m\u001b[0;32m    518\u001b[0m         \u001b[1;32mif\u001b[0m \u001b[0mk\u001b[0m \u001b[1;33m<=\u001b[0m \u001b[1;33m-\u001b[0m\u001b[0mrows\u001b[0m \u001b[1;32mor\u001b[0m \u001b[0mk\u001b[0m \u001b[1;33m>=\u001b[0m \u001b[0mcols\u001b[0m\u001b[1;33m:\u001b[0m\u001b[1;33m\u001b[0m\u001b[0m\n\u001b[0;32m    519\u001b[0m             \u001b[1;32mraise\u001b[0m \u001b[0mValueError\u001b[0m\u001b[1;33m(\u001b[0m\u001b[1;34m\"k exceeds matrix dimensions\"\u001b[0m\u001b[1;33m)\u001b[0m\u001b[1;33m\u001b[0m\u001b[0m\n",
      "\u001b[1;32mD:\\Anaconda\\lib\\site-packages\\scipy\\sparse\\base.py\u001b[0m in \u001b[0;36m__getattr__\u001b[1;34m(self, attr)\u001b[0m\n\u001b[0;32m    684\u001b[0m             \u001b[1;32mreturn\u001b[0m \u001b[0mself\u001b[0m\u001b[1;33m.\u001b[0m\u001b[0mgetnnz\u001b[0m\u001b[1;33m(\u001b[0m\u001b[1;33m)\u001b[0m\u001b[1;33m\u001b[0m\u001b[0m\n\u001b[0;32m    685\u001b[0m         \u001b[1;32melse\u001b[0m\u001b[1;33m:\u001b[0m\u001b[1;33m\u001b[0m\u001b[0m\n\u001b[1;32m--> 686\u001b[1;33m             \u001b[1;32mraise\u001b[0m \u001b[0mAttributeError\u001b[0m\u001b[1;33m(\u001b[0m\u001b[0mattr\u001b[0m \u001b[1;33m+\u001b[0m \u001b[1;34m\" not found\"\u001b[0m\u001b[1;33m)\u001b[0m\u001b[1;33m\u001b[0m\u001b[0m\n\u001b[0m\u001b[0;32m    687\u001b[0m \u001b[1;33m\u001b[0m\u001b[0m\n\u001b[0;32m    688\u001b[0m     \u001b[1;32mdef\u001b[0m \u001b[0mtranspose\u001b[0m\u001b[1;33m(\u001b[0m\u001b[0mself\u001b[0m\u001b[1;33m,\u001b[0m \u001b[0maxes\u001b[0m\u001b[1;33m=\u001b[0m\u001b[1;32mNone\u001b[0m\u001b[1;33m,\u001b[0m \u001b[0mcopy\u001b[0m\u001b[1;33m=\u001b[0m\u001b[1;32mFalse\u001b[0m\u001b[1;33m)\u001b[0m\u001b[1;33m:\u001b[0m\u001b[1;33m\u001b[0m\u001b[0m\n",
      "\u001b[1;31mAttributeError\u001b[0m: shape not found"
     ]
    }
   ],
   "source": [
    "fb_results = {}\n",
    "FRAC_EDGES_HIDDEN = [0.25, 0.5, 0.75]\n",
    "FB_RESULTS_DIR = './results/fb-experiment-results.pkl'\n",
    "\n",
    "# Iterate over fractions of edges to hide\n",
    "for frac_hidden in FRAC_EDGES_HIDDEN:\n",
    "    val_frac = 0.1\n",
    "    test_frac = frac_hidden - val_frac\n",
    "    \n",
    "    # Iterate over each graph\n",
    "    for g_name, graph_tuple in fb_graphs.items():\n",
    "        adj = graph_tuple[0]\n",
    "        feat = graph_tuple[1]\n",
    "        \n",
    "#         print(ment_name = 'fb-{}-{}-hidden'.format(g_name, frac_hidden)\n",
    "        experiment_name = 'fb-{}-{}-hidden'.format(g_name, frac_hidden)\n",
    "        print(\"Current experiment: \", experiment_name)\n",
    "        \n",
    "        # Run all link prediction methods on current graph, store results\n",
    "        fb_results[experiment_name] = lp.calculate_all_scores(adj, feat, \\\n",
    "                                                     test_frac=test_frac, val_frac=val_frac, \\\n",
    "                                                     random_state=RANDOM_SEED, verbose=0)\n",
    "        \n",
    "# Save experiment results\n",
    "with open(FB_RESULTS_DIR, 'wb') as f:\n",
    "    pickle.dump(fb_results, f)"
   ]
  },
  {
   "cell_type": "code",
   "execution_count": null,
   "metadata": {},
   "outputs": [],
   "source": []
  }
 ],
 "metadata": {
  "kernelspec": {
   "display_name": "Python 3",
   "language": "python",
   "name": "python3"
  },
  "language_info": {
   "codemirror_mode": {
    "name": "ipython",
    "version": 3
   },
   "file_extension": ".py",
   "mimetype": "text/x-python",
   "name": "python",
   "nbconvert_exporter": "python",
   "pygments_lexer": "ipython3",
   "version": "3.6.5"
  }
 },
 "nbformat": 4,
 "nbformat_minor": 2
}
